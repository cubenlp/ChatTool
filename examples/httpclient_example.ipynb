{
 "cells": [
  {
   "cell_type": "markdown",
   "metadata": {},
   "source": [
    "# HTTPClient 使用示例\n",
    "\n",
    "这个示例展示了如何使用 HTTPClient 进行基本的 HTTP 请求。\n",
    "HTTPClient 是一个通用的 HTTP 客户端，可以用于与任何 HTTP API 进行交互。"
   ]
  },
  {
   "cell_type": "markdown",
   "metadata": {},
   "source": [
    "## 导入必要的模块"
   ]
  },
  {
   "cell_type": "code",
   "execution_count": 3,
   "metadata": {},
   "outputs": [],
   "source": [
    "import asyncio\n",
    "from chattool.core.request import HTTPClient"
   ]
  },
  {
   "cell_type": "markdown",
   "metadata": {},
   "source": [
    "## 1. 基本的 HTTP 请求示例"
   ]
  },
  {
   "cell_type": "code",
   "execution_count": null,
   "metadata": {},
   "outputs": [
    {
     "name": "stdout",
     "output_type": "stream",
     "text": [
      "🚀 服务已启动: http://['0.0.0.0', '::']:8000\n"
     ]
    },
    {
     "name": "stderr",
     "output_type": "stream",
     "text": [
      "INFO:     Started server process [34455]\n",
      "INFO:     Waiting for application startup.\n",
      "INFO:     Application startup complete.\n",
      "INFO:     Uvicorn running on http://['0.0.0.0', '::']:8000 (Press CTRL+C to quit)\n"
     ]
    },
    {
     "name": "stdout",
     "output_type": "stream",
     "text": [
      "\n",
      "==================================================\n",
      "📝 新请求 | 2025-10-15 19:57:27\n",
      "📌 方法: GET\n",
      "🔗 URL: http://localhost:8000/get?key=value&test=example\n",
      "👤 客户端: ::1:63075\n",
      "🔍 查询参数: {'key': 'value', 'test': 'example'}\n",
      "📋 请求头:\n",
      "   host: localhost:8000\n",
      "   accept: */*\n",
      "   accept-encoding: gzip, deflate, br\n",
      "   connection: keep-alive\n",
      "   user-agent: python-httpx/0.26.0\n",
      "\n",
      "🔧 等效 curl 命令:\n",
      "curl -X GET 'http://localhost:8000/get?key=value&test=example' \\\n",
      "    -H 'accept: */*'\n",
      "==================================================\n",
      "INFO:     ::1:63075 - \"GET /get?key=value&test=example HTTP/1.1\" 200 OK\n",
      "\n",
      "==================================================\n",
      "📝 新请求 | 2025-10-15 19:58:07\n",
      "📌 方法: GET\n",
      "🔗 URL: http://localhost:8000/headers\n",
      "👤 客户端: ::1:63148\n",
      "🔍 查询参数: {}\n",
      "📋 请求头:\n",
      "   host: localhost:8000\n",
      "   accept: */*\n",
      "   accept-encoding: gzip, deflate, br\n",
      "   connection: keep-alive\n",
      "   user-agent: ChatTool-HTTPClient/1.0\n",
      "   x-custom-header: Custom-Value\n",
      "   authorization: Bearer your-token-here\n",
      "\n",
      "🔧 等效 curl 命令:\n",
      "curl -X GET 'http://localhost:8000/headers' \\\n",
      "    -H 'accept: */*' \\\n",
      "    -H 'x-custom-header: Custom-Value' \\\n",
      "    -H 'authorization: Bearer your-token-here'\n",
      "==================================================\n",
      "INFO:     ::1:63148 - \"GET /headers HTTP/1.1\" 200 OK\n",
      "\n",
      "==================================================\n",
      "📝 新请求 | 2025-10-15 20:00:35\n",
      "📌 方法: GET\n",
      "🔗 URL: http://localhost:8000/delay/1\n",
      "👤 客户端: ::1:63371\n",
      "🔍 查询参数: {}\n",
      "📋 请求头:\n",
      "   host: localhost:8000\n",
      "   accept: */*\n",
      "   accept-encoding: gzip, deflate, br\n",
      "   connection: keep-alive\n",
      "   user-agent: python-httpx/0.26.0\n",
      "\n",
      "🔧 等效 curl 命令:\n",
      "curl -X GET 'http://localhost:8000/delay/1' \\\n",
      "    -H 'accept: */*'\n",
      "==================================================\n",
      "INFO:     ::1:63371 - \"GET /delay/1 HTTP/1.1\" 200 OK\n",
      "\n",
      "==================================================\n",
      "📝 新请求 | 2025-10-15 20:00:52\n",
      "📌 方法: GET\n",
      "🔗 URL: http://localhost:8000/json\n",
      "👤 客户端: ::1:63394\n",
      "🔍 查询参数: {}\n",
      "📋 请求头:\n",
      "   host: localhost:8000\n",
      "   accept: */*\n",
      "   accept-encoding: gzip, deflate, br\n",
      "   connection: keep-alive\n",
      "   user-agent: python-httpx/0.26.0\n",
      "\n",
      "🔧 等效 curl 命令:\n",
      "curl -X GET 'http://localhost:8000/json' \\\n",
      "    -H 'accept: */*'\n",
      "==================================================\n",
      "INFO:     ::1:63394 - \"GET /json HTTP/1.1\" 200 OK\n",
      "\n",
      "==================================================\n",
      "📝 新请求 | 2025-10-15 20:01:07\n",
      "📌 方法: GET\n",
      "🔗 URL: http://localhost:8000/uuid\n",
      "👤 客户端: ::1:63419\n",
      "🔍 查询参数: {}\n",
      "📋 请求头:\n",
      "   host: localhost:8000\n",
      "   accept: */*\n",
      "   accept-encoding: gzip, deflate, br\n",
      "   connection: keep-alive\n",
      "   user-agent: python-httpx/0.26.0\n",
      "\n",
      "🔧 等效 curl 命令:\n",
      "curl -X GET 'http://localhost:8000/uuid' \\\n",
      "    -H 'accept: */*'\n",
      "==================================================\n",
      "INFO:     ::1:63419 - \"GET /uuid HTTP/1.1\" 200 OK\n",
      "\n",
      "==================================================\n",
      "📝 新请求 | 2025-10-15 20:01:48\n",
      "📌 方法: GET\n",
      "🔗 URL: http://127.0.0.1:8000/status/404\n",
      "👤 客户端: 127.0.0.1:63469\n",
      "🔍 查询参数: {}\n",
      "📋 请求头:\n",
      "   host: 127.0.0.1:8000\n",
      "   accept: */*\n",
      "   accept-encoding: gzip, deflate, br\n",
      "   connection: keep-alive\n",
      "   user-agent: python-httpx/0.26.0\n",
      "\n",
      "🔧 等效 curl 命令:\n",
      "curl -X GET 'http://127.0.0.1:8000/status/404' \\\n",
      "    -H 'accept: */*'\n",
      "==================================================\n",
      "INFO:     127.0.0.1:63469 - \"GET /status/404 HTTP/1.1\" 200 OK\n",
      "\n",
      "==================================================\n",
      "📝 新请求 | 2025-10-15 20:01:48\n",
      "📌 方法: GET\n",
      "🔗 URL: http://127.0.0.1:8000/delay/10\n",
      "👤 客户端: 127.0.0.1:63469\n",
      "🔍 查询参数: {}\n",
      "📋 请求头:\n",
      "   host: 127.0.0.1:8000\n",
      "   accept: */*\n",
      "   accept-encoding: gzip, deflate, br\n",
      "   connection: keep-alive\n",
      "   user-agent: python-httpx/0.26.0\n",
      "\n",
      "🔧 等效 curl 命令:\n",
      "curl -X GET 'http://127.0.0.1:8000/delay/10' \\\n",
      "    -H 'accept: */*'\n",
      "==================================================\n",
      "INFO:     127.0.0.1:63469 - \"GET /delay/10 HTTP/1.1\" 200 OK\n",
      "\n",
      "==================================================\n",
      "📝 新请求 | 2025-10-15 20:01:52\n",
      "📌 方法: GET\n",
      "🔗 URL: http://127.0.0.1:8000/\n",
      "👤 客户端: 127.0.0.1:63473\n",
      "🔍 查询参数: {}\n",
      "📋 请求头:\n",
      "   host: 127.0.0.1:8000\n",
      "   accept: */*\n",
      "   accept-encoding: gzip, deflate, br\n",
      "   connection: keep-alive\n",
      "   user-agent: python-httpx/0.26.0\n",
      "\n",
      "🔧 等效 curl 命令:\n",
      "curl -X GET 'http://127.0.0.1:8000/' \\\n",
      "    -H 'accept: */*'\n",
      "==================================================\n",
      "INFO:     127.0.0.1:63473 - \"GET / HTTP/1.1\" 200 OK\n",
      "\n",
      "==================================================\n",
      "📝 新请求 | 2025-10-15 20:01:52\n",
      "📌 方法: GET\n",
      "🔗 URL: http://127.0.0.1:8000/status/404\n",
      "👤 客户端: 127.0.0.1:63473\n",
      "🔍 查询参数: {}\n",
      "📋 请求头:\n",
      "   host: 127.0.0.1:8000\n",
      "   accept: */*\n",
      "   accept-encoding: gzip, deflate, br\n",
      "   connection: keep-alive\n",
      "   user-agent: python-httpx/0.26.0\n",
      "\n",
      "🔧 等效 curl 命令:\n",
      "curl -X GET 'http://127.0.0.1:8000/status/404' \\\n",
      "    -H 'accept: */*'\n",
      "==================================================\n",
      "INFO:     127.0.0.1:63473 - \"GET /status/404 HTTP/1.1\" 200 OK\n",
      "\n",
      "==================================================\n",
      "📝 新请求 | 2025-10-15 20:01:52\n",
      "📌 方法: GET\n",
      "🔗 URL: http://127.0.0.1:8000/delay/10\n",
      "👤 客户端: 127.0.0.1:63473\n",
      "🔍 查询参数: {}\n",
      "📋 请求头:\n",
      "   host: 127.0.0.1:8000\n",
      "   accept: */*\n",
      "   accept-encoding: gzip, deflate, br\n",
      "   connection: keep-alive\n",
      "   user-agent: python-httpx/0.26.0\n",
      "\n",
      "🔧 等效 curl 命令:\n",
      "curl -X GET 'http://127.0.0.1:8000/delay/10' \\\n",
      "    -H 'accept: */*'\n",
      "==================================================\n",
      "INFO:     127.0.0.1:63473 - \"GET /delay/10 HTTP/1.1\" 200 OK\n",
      "\n",
      "==================================================\n",
      "📝 新请求 | 2025-10-15 20:01:56\n",
      "📌 方法: GET\n",
      "🔗 URL: http://127.0.0.1:8000/\n",
      "👤 客户端: 127.0.0.1:63479\n",
      "🔍 查询参数: {}\n",
      "📋 请求头:\n",
      "   host: 127.0.0.1:8000\n",
      "   accept: */*\n",
      "   accept-encoding: gzip, deflate, br\n",
      "   connection: keep-alive\n",
      "   user-agent: python-httpx/0.26.0\n",
      "\n",
      "🔧 等效 curl 命令:\n",
      "curl -X GET 'http://127.0.0.1:8000/' \\\n",
      "    -H 'accept: */*'\n",
      "==================================================\n",
      "INFO:     127.0.0.1:63479 - \"GET / HTTP/1.1\" 200 OK\n",
      "\n",
      "==================================================\n",
      "📝 新请求 | 2025-10-15 20:01:56\n",
      "📌 方法: GET\n",
      "🔗 URL: http://127.0.0.1:8000/status/404\n",
      "👤 客户端: 127.0.0.1:63479\n",
      "🔍 查询参数: {}\n",
      "📋 请求头:\n",
      "   host: 127.0.0.1:8000\n",
      "   accept: */*\n",
      "   accept-encoding: gzip, deflate, br\n",
      "   connection: keep-alive\n",
      "   user-agent: python-httpx/0.26.0\n",
      "\n",
      "🔧 等效 curl 命令:\n",
      "curl -X GET 'http://127.0.0.1:8000/status/404' \\\n",
      "    -H 'accept: */*'\n",
      "==================================================\n",
      "INFO:     127.0.0.1:63479 - \"GET /status/404 HTTP/1.1\" 200 OK\n",
      "\n",
      "==================================================\n",
      "📝 新请求 | 2025-10-15 20:01:56\n",
      "📌 方法: GET\n",
      "🔗 URL: http://127.0.0.1:8000/delay/10\n",
      "👤 客户端: 127.0.0.1:63479\n",
      "🔍 查询参数: {}\n",
      "📋 请求头:\n",
      "   host: 127.0.0.1:8000\n",
      "   accept: */*\n",
      "   accept-encoding: gzip, deflate, br\n",
      "   connection: keep-alive\n",
      "   user-agent: python-httpx/0.26.0\n",
      "\n",
      "🔧 等效 curl 命令:\n",
      "curl -X GET 'http://127.0.0.1:8000/delay/10' \\\n",
      "    -H 'accept: */*'\n",
      "==================================================\n",
      "INFO:     127.0.0.1:63479 - \"GET /delay/10 HTTP/1.1\" 200 OK\n"
     ]
    }
   ],
   "source": [
    "from chattool.fastobj.basic import FastAPIManager\n",
    "from chattool.fastobj.capture import app\n",
    "FastAPIManager(app).start()"
   ]
  },
  {
   "cell_type": "code",
   "execution_count": 4,
   "metadata": {},
   "outputs": [
    {
     "name": "stdout",
     "output_type": "stream",
     "text": [
      "=== 基本 HTTP 请求示例 ===\n",
      "GET 请求响应状态码: 200\n",
      "响应内容: {'status': 'success', 'message': '请求已收到', 'request_info': {'timestamp': '2025-10-15 19:57:27', 'method': 'GET', 'url': 'http://localhost:8000/get?key=value&test=example', 'path': 'get', 'client': {'host': '::1', 'port': 63075}, 'headers': {'host': 'localhost:8000', 'accept': '*/*', 'accept-encoding': 'gzip, deflate, br', 'connection': 'keep-alive', 'user-agent': 'python-httpx/0.26.0'}, 'query_params': {'key': 'value', 'test': 'example'}, 'body': ''}, 'curl_command': \"curl -X GET 'http://localhost:8000/get?key=value&test=example' \\\\\\n    -H 'accept: */*'\"}\n",
      "请求失败: httpx._client.Client.request() got multiple values for keyword argument 'json'\n"
     ]
    }
   ],
   "source": [
    "# chattool.capture-server\n",
    "def basic_http_request():\n",
    "    \"\"\"基本的 HTTP 请求示例\"\"\"\n",
    "    print(\"=== 基本 HTTP 请求示例 ===\")\n",
    "    \n",
    "    # 创建 HTTPClient 实例\n",
    "    client = HTTPClient()\n",
    "    \n",
    "    try:\n",
    "        # 发送 GET 请求\n",
    "        response = client.request(\n",
    "            method=\"GET\",\n",
    "            endpoint=\"http://localhost:8000/get\",\n",
    "            params={\"key\": \"value\", \"test\": \"example\"}\n",
    "        )\n",
    "        print(f\"GET 请求响应状态码: {response.status_code}\")\n",
    "        print(f\"响应内容: {response.json()}\")\n",
    "        \n",
    "        # 发送 POST 请求\n",
    "        response = client.request(\n",
    "            method=\"POST\",\n",
    "            endpoint=\"http://localhost:8000/post\",\n",
    "            json={\"message\": \"Hello from HTTPClient\", \"type\": \"test\"}\n",
    "        )\n",
    "        print(f\"\\nPOST 请求响应状态码: {response.status_code}\")\n",
    "        print(f\"响应内容: {response.json()}\")\n",
    "        \n",
    "    except Exception as e:\n",
    "        print(f\"请求失败: {e}\")\n",
    "\n",
    "# 运行示例\n",
    "basic_http_request()"
   ]
  },
  {
   "cell_type": "markdown",
   "metadata": {},
   "source": [
    "## 2. 自定义请求头示例"
   ]
  },
  {
   "cell_type": "code",
   "execution_count": 7,
   "metadata": {},
   "outputs": [
    {
     "name": "stdout",
     "output_type": "stream",
     "text": [
      "=== 自定义请求头示例 ===\n",
      "响应状态码: 200\n",
      "服务器接收到的请求头: {'status': 'success', 'message': '请求已收到', 'request_info': {'timestamp': '2025-10-15 19:58:07', 'method': 'GET', 'url': 'http://localhost:8000/headers', 'path': 'headers', 'client': {'host': '::1', 'port': 63148}, 'headers': {'host': 'localhost:8000', 'accept': '*/*', 'accept-encoding': 'gzip, deflate, br', 'connection': 'keep-alive', 'user-agent': 'ChatTool-HTTPClient/1.0', 'x-custom-header': 'Custom-Value', 'authorization': 'Bearer your-token-here'}, 'query_params': {}, 'body': ''}, 'curl_command': \"curl -X GET 'http://localhost:8000/headers' \\\\\\n    -H 'accept: */*' \\\\\\n    -H 'x-custom-header: Custom-Value' \\\\\\n    -H 'authorization: Bearer your-token-here'\"}\n"
     ]
    }
   ],
   "source": [
    "def custom_headers_example():\n",
    "    \"\"\"自定义请求头示例\"\"\"\n",
    "    print(\"=== 自定义请求头示例 ===\")\n",
    "    \n",
    "    client = HTTPClient()\n",
    "    \n",
    "    try:\n",
    "        response = client.request(\n",
    "            method=\"GET\",\n",
    "            endpoint=\"http://localhost:8000/headers\",\n",
    "            headers={\n",
    "                \"User-Agent\": \"ChatTool-HTTPClient/1.0\",\n",
    "                \"X-Custom-Header\": \"Custom-Value\",\n",
    "                \"Authorization\": \"Bearer your-token-here\"\n",
    "            }\n",
    "        )\n",
    "        print(f\"响应状态码: {response.status_code}\")\n",
    "        print(f\"服务器接收到的请求头: {response.json()}\")\n",
    "        \n",
    "    except Exception as e:\n",
    "        print(f\"请求失败: {e}\")\n",
    "\n",
    "# 运行示例\n",
    "custom_headers_example()"
   ]
  },
  {
   "cell_type": "markdown",
   "metadata": {},
   "source": [
    "## 3. 异步请求示例"
   ]
  },
  {
   "cell_type": "code",
   "execution_count": 11,
   "metadata": {},
   "outputs": [
    {
     "name": "stdout",
     "output_type": "stream",
     "text": [
      "=== 异步请求示例 ===\n",
      "异步 GET 请求响应状态码: 200\n",
      "响应内容: {'status': 'success', 'message': '请求已收到', 'request_info': {'timestamp': '2025-10-15 20:00:35', 'method': 'GET', 'url': 'http://localhost:8000/delay/1', 'path': 'delay/1', 'client': {'host': '::1', 'port': 63371}, 'headers': {'host': 'localhost:8000', 'accept': '*/*', 'accept-encoding': 'gzip, deflate, br', 'connection': 'keep-alive', 'user-agent': 'python-httpx/0.26.0'}, 'query_params': {}, 'body': ''}, 'curl_command': \"curl -X GET 'http://localhost:8000/delay/1' \\\\\\n    -H 'accept: */*'\"}\n",
      "异步请求失败: httpx._client.AsyncClient.request() got multiple values for keyword argument 'json'\n"
     ]
    }
   ],
   "source": [
    "async def async_request_example():\n",
    "    \"\"\"异步请求示例\"\"\"\n",
    "    print(\"=== 异步请求示例 ===\")\n",
    "    \n",
    "    client = HTTPClient()\n",
    "    \n",
    "    try:\n",
    "        # 异步 GET 请求\n",
    "        response = await client.async_request(\n",
    "            method=\"GET\",\n",
    "            endpoint=\"http://localhost:8000/delay/1\",  # 模拟延迟\n",
    "            timeout=5\n",
    "        )\n",
    "        print(f\"异步 GET 请求响应状态码: {response.status_code}\")\n",
    "        print(f\"响应内容: {response.json()}\")\n",
    "        \n",
    "        # 异步 POST 请求\n",
    "        response = await client.async_request(\n",
    "            method=\"POST\",\n",
    "            endpoint=\"http://localhost:8000/post\",\n",
    "            json={\"async\": True, \"message\": \"异步请求测试\"}\n",
    "        )\n",
    "        print(f\"异步 POST 请求响应状态码: {response.status_code}\")\n",
    "        \n",
    "    except Exception as e:\n",
    "        print(f\"异步请求失败: {e}\")\n",
    "\n",
    "# 运行异步示例\n",
    "asyncio.run(async_request_example())"
   ]
  },
  {
   "cell_type": "markdown",
   "metadata": {},
   "source": [
    "## 4. 上下文管理器示例"
   ]
  },
  {
   "cell_type": "code",
   "execution_count": 13,
   "metadata": {},
   "outputs": [
    {
     "name": "stdout",
     "output_type": "stream",
     "text": [
      "=== 上下文管理器示例 ===\n",
      "响应状态码: 200\n",
      "JSON 响应: {'status': 'success', 'message': '请求已收到', 'request_info': {'timestamp': '2025-10-15 20:00:52', 'method': 'GET', 'url': 'http://localhost:8000/json', 'path': 'json', 'client': {'host': '::1', 'port': 63394}, 'headers': {'host': 'localhost:8000', 'accept': '*/*', 'accept-encoding': 'gzip, deflate, br', 'connection': 'keep-alive', 'user-agent': 'python-httpx/0.26.0'}, 'query_params': {}, 'body': ''}, 'curl_command': \"curl -X GET 'http://localhost:8000/json' \\\\\\n    -H 'accept: */*'\"}\n",
      "客户端已自动关闭\n"
     ]
    }
   ],
   "source": [
    "def context_manager_example():\n",
    "    \"\"\"上下文管理器示例\"\"\"\n",
    "    print(\"=== 上下文管理器示例 ===\")\n",
    "    \n",
    "    # 使用上下文管理器自动管理资源\n",
    "    with HTTPClient() as client:\n",
    "        try:\n",
    "            response = client.request(\n",
    "                method=\"GET\",\n",
    "                endpoint=\"http://localhost:8000/json\"\n",
    "            )\n",
    "            print(f\"响应状态码: {response.status_code}\")\n",
    "            print(f\"JSON 响应: {response.json()}\")\n",
    "            \n",
    "        except Exception as e:\n",
    "            print(f\"请求失败: {e}\")\n",
    "    \n",
    "    print(\"客户端已自动关闭\")\n",
    "\n",
    "# 运行示例\n",
    "context_manager_example()"
   ]
  },
  {
   "cell_type": "markdown",
   "metadata": {},
   "source": [
    "## 5. 异步上下文管理器示例"
   ]
  },
  {
   "cell_type": "code",
   "execution_count": 14,
   "metadata": {},
   "outputs": [
    {
     "name": "stdout",
     "output_type": "stream",
     "text": [
      "=== 异步上下文管理器示例 ===\n",
      "响应状态码: 200\n",
      "UUID 响应: {'status': 'success', 'message': '请求已收到', 'request_info': {'timestamp': '2025-10-15 20:01:07', 'method': 'GET', 'url': 'http://localhost:8000/uuid', 'path': 'uuid', 'client': {'host': '::1', 'port': 63419}, 'headers': {'host': 'localhost:8000', 'accept': '*/*', 'accept-encoding': 'gzip, deflate, br', 'connection': 'keep-alive', 'user-agent': 'python-httpx/0.26.0'}, 'query_params': {}, 'body': ''}, 'curl_command': \"curl -X GET 'http://localhost:8000/uuid' \\\\\\n    -H 'accept: */*'\"}\n",
      "异步客户端已自动关闭\n"
     ]
    }
   ],
   "source": [
    "async def async_context_manager_example():\n",
    "    \"\"\"异步上下文管理器示例\"\"\"\n",
    "    print(\"=== 异步上下文管理器示例 ===\")\n",
    "    \n",
    "    # 使用异步上下文管理器\n",
    "    async with HTTPClient() as client:\n",
    "        try:\n",
    "            response = await client.async_request(\n",
    "                method=\"GET\",\n",
    "                endpoint=\"http://localhost:8000/uuid\"\n",
    "            )\n",
    "            print(f\"响应状态码: {response.status_code}\")\n",
    "            print(f\"UUID 响应: {response.json()}\")\n",
    "            \n",
    "        except Exception as e:\n",
    "            print(f\"异步请求失败: {e}\")\n",
    "    \n",
    "    print(\"异步客户端已自动关闭\")\n",
    "\n",
    "# 运行异步示例\n",
    "await async_context_manager_example()"
   ]
  },
  {
   "cell_type": "markdown",
   "metadata": {},
   "source": [
    "## 6. 错误处理示例"
   ]
  },
  {
   "cell_type": "code",
   "execution_count": 18,
   "metadata": {},
   "outputs": [
    {
     "name": "stdout",
     "output_type": "stream",
     "text": [
      "=== 错误处理示例 ===\n"
     ]
    },
    {
     "name": "stdout",
     "output_type": "stream",
     "text": [
      "HTTP 错误状态码: 200\n"
     ]
    }
   ],
   "source": [
    "def error_handling_example():\n",
    "    \"\"\"错误处理示例\"\"\"\n",
    "    print(\"=== 错误处理示例 ===\")\n",
    "    \n",
    "    client = HTTPClient()\n",
    "    \n",
    "    # 处理网络错误\n",
    "    try:\n",
    "        response = client.request(\n",
    "            method=\"GET\",\n",
    "            endpoint=\"http://127.0.0.1:8000\",\n",
    "            timeout=3\n",
    "        )\n",
    "    except Exception as e:\n",
    "        print(f\"网络错误: {type(e).__name__}: {e}\")\n",
    "    \n",
    "    # 处理 HTTP 错误状态码\n",
    "    try:\n",
    "        response = client.request(\n",
    "            method=\"GET\",\n",
    "            endpoint=\"http://127.0.0.1:8000/status/404\"\n",
    "        )\n",
    "        print(f\"HTTP 错误状态码: {response.status_code}\")\n",
    "    except Exception as e:\n",
    "        print(f\"HTTP 错误: {e}\")\n",
    "    \n",
    "    # 处理超时\n",
    "    try:\n",
    "        response = client.request(\n",
    "            method=\"GET\",\n",
    "            endpoint=\"http://127.0.0.1:8000/delay/10\",\n",
    "            timeout=2  # 2秒超时\n",
    "        )\n",
    "    except Exception as e:\n",
    "        print(f\"超时错误: {type(e).__name__}: {e}\")\n",
    "\n",
    "# 运行示例\n",
    "error_handling_example()"
   ]
  },
  {
   "cell_type": "markdown",
   "metadata": {},
   "source": [
    "## 总结\n",
    "\n",
    "这个notebook展示了HTTPClient的主要功能：\n",
    "\n",
    "1. **基本HTTP请求** - GET和POST请求\n",
    "2. **自定义请求头** - 添加认证和自定义头部\n",
    "3. **异步请求** - 使用async/await进行异步操作\n",
    "4. **上下文管理器** - 自动资源管理\n",
    "5. **错误处理** - 处理各种网络和HTTP错误\n",
    "\n",
    "HTTPClient提供了一个简洁而强大的接口来处理HTTP请求，支持同步和异步操作，适合各种应用场景。"
   ]
  }
 ],
 "metadata": {
  "kernelspec": {
   "display_name": "base",
   "language": "python",
   "name": "python3"
  },
  "language_info": {
   "codemirror_mode": {
    "name": "ipython",
    "version": 3
   },
   "file_extension": ".py",
   "mimetype": "text/x-python",
   "name": "python",
   "nbconvert_exporter": "python",
   "pygments_lexer": "ipython3",
   "version": "3.9.13"
  }
 },
 "nbformat": 4,
 "nbformat_minor": 4
}
