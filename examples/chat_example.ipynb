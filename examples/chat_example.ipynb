{
 "cells": [
  {
   "cell_type": "markdown",
   "metadata": {},
   "source": [
    "# Chat 对象使用示例\n",
    "\n",
    "这个示例展示了如何使用 Chat 对象进行对话管理，包括：\n",
    "- 从 .env 文件加载配置\n",
    "- 基本对话功能\n",
    "- 异步对话\n",
    "- 对话历史管理\n",
    "- 错误处理\n",
    "- 高级功能"
   ]
  },
  {
   "cell_type": "markdown",
   "metadata": {},
   "source": [
    "## 1. 环境准备和导入模块"
   ]
  },
  {
   "cell_type": "code",
   "execution_count": 1,
   "metadata": {},
   "outputs": [],
   "source": [
    "import os\n",
    "from datetime import datetime\n",
    "\n",
    "# 导入 chattool 相关模块\n",
    "from chattool.core.chattype import Chat\n",
    "from chattool.core.config import OpenAIConfig"
   ]
  },
  {
   "cell_type": "markdown",
   "metadata": {},
   "source": [
    "## 2. 创建 Chat 对象\n",
    "\n",
    "使用环境变量自动配置"
   ]
  },
  {
   "cell_type": "code",
   "execution_count": 2,
   "metadata": {},
   "outputs": [
    {
     "name": "stdout",
     "output_type": "stream",
     "text": [
      "✅ Chat 对象创建成功（使用环境变量配置）\n",
      "✅ Chat 对象创建成功（使用显式配置）\n"
     ]
    }
   ],
   "source": [
    "# 方法1: 使用默认配置（自动从环境变量读取）\n",
    "chat = Chat()\n",
    "print(\"✅ Chat 对象创建成功（使用环境变量配置）\")\n",
    "\n",
    "# 方法2: 使用显式配置\n",
    "config = OpenAIConfig(\n",
    "    api_key=os.getenv('OPENAI_API_KEY'),\n",
    "    api_base=os.getenv('OPENAI_API_BASE'),\n",
    "    model=os.getenv('OPENAI_API_MODEL', 'gpt-3.5-turbo'),\n",
    "    temperature=0.7,\n",
    "    max_tokens=1000\n",
    ")\n",
    "chat_with_config = Chat(config=config)\n",
    "print(\"✅ Chat 对象创建成功（使用显式配置）\")"
   ]
  },
  {
   "cell_type": "markdown",
   "metadata": {},
   "source": [
    "## 3. 基本对话示例"
   ]
  },
  {
   "cell_type": "code",
   "execution_count": 3,
   "metadata": {},
   "outputs": [
    {
     "name": "stdout",
     "output_type": "stream",
     "text": [
      "=== 第一轮对话 ===\n",
      "用户: 你好！请简单介绍一下自己。\n",
      "助手: 你好！我是一个由人工智能驱动的助手，旨在帮助回答问题、提供信息和协助解决各种任务。我可以协助你处理多种主题，无论是学习、工作还是日常生活中的问题。请随时问我任何问题！\n",
      "Token使用: 94\n",
      "\n"
     ]
    }
   ],
   "source": [
    "# 设置系统提示\n",
    "chat.system(\"你是一个友善的AI助手，请用简洁明了的方式回答问题。\")\n",
    "\n",
    "# 进行第一轮对话\n",
    "print(\"=== 第一轮对话 ===\")\n",
    "response1 = chat.user(\"你好！请简单介绍一下自己。\").get_response()\n",
    "print(f\"用户: 你好！请简单介绍一下自己。\")\n",
    "print(f\"助手: {response1.content}\")\n",
    "print(f\"Token使用: {response1.total_tokens}\")\n",
    "print()"
   ]
  },
  {
   "cell_type": "code",
   "execution_count": 4,
   "metadata": {},
   "outputs": [
    {
     "name": "stdout",
     "output_type": "stream",
     "text": [
      "=== 第二轮对话 ===\n",
      "用户: 能告诉我今天是星期几吗？\n",
      "助手: 抱歉，我无法提供当前的日期或时间信息。您可以查看设备上的日历来找到今天是星期几。需要其他帮助吗？\n",
      "Token使用: 142\n",
      "\n"
     ]
    }
   ],
   "source": [
    "# 继续对话\n",
    "print(\"=== 第二轮对话 ===\")\n",
    "response2 = chat.user(\"能告诉我今天是星期几吗？\").get_response()\n",
    "print(f\"用户: 能告诉我今天是星期几吗？\")\n",
    "print(f\"助手: {response2.content}\")\n",
    "print(f\"Token使用: {response2.total_tokens}\")\n",
    "print()"
   ]
  },
  {
   "cell_type": "markdown",
   "metadata": {},
   "source": [
    "## 4. 查看对话历史"
   ]
  },
  {
   "cell_type": "code",
   "execution_count": 5,
   "metadata": {},
   "outputs": [
    {
     "name": "stdout",
     "output_type": "stream",
     "text": [
      "=== 对话历史 ===\n",
      "1. [SYSTEM]: 你是一个友善的AI助手，请用简洁明了的方式回答问题。\n",
      "2. [USER]: 你好！请简单介绍一下自己。\n",
      "3. [ASSISTANT]: 你好！我是一个由人工智能驱动的助手，旨在帮助回答问题、提供信息和协助解决各种任务。我可以协助你处理多种主题，无论是学习、工作还是日常生活中的问题。请随时问我任何问题！\n",
      "4. [USER]: 能告诉我今天是星期几吗？\n",
      "5. [ASSISTANT]: 抱歉，我无法提供当前的日期或时间信息。您可以查看设备上的日历来找到今天是星期几。需要其他帮助吗？\n",
      "\n",
      "总消息数: 5\n",
      "最后一条消息: 抱歉，我无法提供当前的日期或时间信息。您可以查看设备上的日历来找到今天是星期几。需要其他帮助吗？\n"
     ]
    }
   ],
   "source": [
    "# 查看完整对话历史\n",
    "print(\"=== 对话历史 ===\")\n",
    "for i, message in enumerate(chat.chat_log):\n",
    "    role = message['role']\n",
    "    content = message['content'][:100] + '...' if len(message['content']) > 100 else message['content']\n",
    "    print(f\"{i+1}. [{role.upper()}]: {content}\")\n",
    "\n",
    "print(f\"\\n总消息数: {len(chat)}\")\n",
    "print(f\"最后一条消息: {chat.last_message}\")"
   ]
  },
  {
   "cell_type": "markdown",
   "metadata": {},
   "source": [
    "## 5. 便捷问答方法"
   ]
  },
  {
   "cell_type": "code",
   "execution_count": 6,
   "metadata": {},
   "outputs": [
    {
     "name": "stdout",
     "output_type": "stream",
     "text": [
      "=== 便捷问答 ===\n",
      "问题: 请用一句话解释什么是人工智能？\n",
      "回答: 人工智能是一种能够模拟和执行人类智能任务的计算机系统或程序。\n"
     ]
    }
   ],
   "source": [
    "# 使用 ask 方法进行快速问答\n",
    "print(\"=== 便捷问答 ===\")\n",
    "answer = chat.ask(\"请用一句话解释什么是人工智能？\")\n",
    "print(f\"问题: 请用一句话解释什么是人工智能？\")\n",
    "print(f\"回答: {answer}\")"
   ]
  },
  {
   "cell_type": "markdown",
   "metadata": {},
   "source": [
    "## 6. 异步对话示例"
   ]
  },
  {
   "cell_type": "code",
   "execution_count": 7,
   "metadata": {},
   "outputs": [
    {
     "name": "stdout",
     "output_type": "stream",
     "text": [
      "=== 异步对话示例 ===\n",
      "问题: Python中如何创建虚拟环境？\n",
      "回答: 在 Python 中创建虚拟环境可以使用以下步骤：\n",
      "\n",
      "1. **安装 `venv`**: 确保你的 Python 版本是 3.3 或更高，因为 `venv` 模块在这些版本中是自带的。如果你使用 Python 2，需要安装 `virtualenv`。\n",
      "\n",
      "2. **创建虚拟环境**:\n",
      "   - 打开终端（MacOS/Linux）或命令提示符（Windows）。\n",
      "   - 导航到你希望创建虚拟环境的项目目录。\n",
      "   - 运行以下命令来创建虚拟环境（假设你想创建一个名为 `venv` 的虚拟环境）：\n",
      "     ```\n",
      "     python -m venv venv\n",
      "     ```\n",
      "\n",
      "3. **激活虚拟环境**:\n",
      "   - 在 MacOS/Linux 上，使用以下命令：\n",
      "     ```bash\n",
      "     source venv/bin/activate\n",
      "     ```\n",
      "   - 在 Windows 上，使用以下命令：\n",
      "     ```cmd\n",
      "     .\\venv\\Scripts\\activate\n",
      "     ```\n",
      "\n",
      "激活后，你的命令提示符会显示虚拟环境的名称，表示你已经在虚拟环境中。\n",
      "\n",
      "4. **安装包**:\n",
      "   - 在激活的虚拟环境内，你可以使用 `pip` 来安装需要的 Python 包。例如：\n",
      "     ```\n",
      "     pip install requests\n",
      "     ```\n",
      "\n",
      "5. **退出虚拟环境**:\n",
      "   - 在任何平台上，你可以使用以下命令退出虚拟环境：\n",
      "     ```bash\n",
      "     deactivate\n",
      "     ```\n",
      "\n",
      "这些步骤将帮助你在项目级别管理不同的 Python 包和版本。\n"
     ]
    }
   ],
   "source": [
    "# 异步对话函数\n",
    "async def async_chat_example():\n",
    "    print(\"=== 异步对话示例 ===\")\n",
    "    \n",
    "    # 创建新的对话实例\n",
    "    async_chat = Chat()\n",
    "    async_chat.system(\"你是一个编程助手，请提供简洁的编程建议。\")\n",
    "    \n",
    "    # 异步获取响应\n",
    "    response = await async_chat.ask_async(\"Python中如何创建虚拟环境？\")\n",
    "    print(f\"问题: Python中如何创建虚拟环境？\")\n",
    "    print(f\"回答: {response}\")\n",
    "    \n",
    "    return async_chat\n",
    "\n",
    "# 运行异步示例\n",
    "async_chat = await async_chat_example()"
   ]
  },
  {
   "cell_type": "markdown",
   "metadata": {},
   "source": [
    "## 7. 批量异步处理"
   ]
  },
  {
   "cell_type": "code",
   "execution_count": null,
   "metadata": {},
   "outputs": [],
   "source": [
    "# 批量处理多个问题\n",
    "async def batch_questions():\n",
    "    print(\"=== 批量异步处理 ===\")\n",
    "    \n",
    "    questions = [\n",
    "        \"什么是机器学习？\",\n",
    "        \"什么是深度学习？\",\n",
    "        \"什么是神经网络？\"\n",
    "    ]\n",
    "    \n",
    "    # 为每个问题创建独立的对话\n",
    "    tasks = []\n",
    "    for question in questions:\n",
    "        temp_chat = Chat()\n",
    "        temp_chat.system(\"请用一句话简洁回答问题。\")\n",
    "        task = temp_chat.ask_async(question)\n",
    "        tasks.append((question, task))\n",
    "    \n",
    "    # 并发执行所有任务\n",
    "    for i, (question, task) in enumerate(tasks):\n",
    "        answer = await task\n",
    "        print(f\"{i+1}. 问题: {question}\")\n",
    "        print(f\"   回答: {answer}\")\n",
    "        print()\n",
    "\n",
    "await batch_questions()"
   ]
  },
  {
   "cell_type": "markdown",
   "metadata": {},
   "source": [
    "## 8. 对话管理功能"
   ]
  },
  {
   "cell_type": "code",
   "execution_count": null,
   "metadata": {},
   "outputs": [],
   "source": [
    "# 对话复制\n",
    "print(\"=== 对话管理 ===\")\n",
    "copied_chat = chat.copy()\n",
    "print(f\"原对话消息数: {len(chat)}\")\n",
    "print(f\"复制对话消息数: {len(copied_chat)}\")\n",
    "\n",
    "# 在复制的对话中尝试不同的问题\n",
    "copied_response = copied_chat.ask(\"换个话题，你能推荐一本好书吗？\")\n",
    "print(f\"\\n复制对话中的新回答: {copied_response}\")\n",
    "\n",
    "# 删除最后一条消息\n",
    "removed_message = chat.pop()\n",
    "print(f\"\\n删除的消息: {removed_message}\")\n",
    "print(f\"删除后消息数: {len(chat)}\")"
   ]
  },
  {
   "cell_type": "markdown",
   "metadata": {},
   "source": [
    "## 9. 调试和监控"
   ]
  },
  {
   "cell_type": "code",
   "execution_count": 8,
   "metadata": {},
   "outputs": [
    {
     "name": "stdout",
     "output_type": "stream",
     "text": [
      "=== 调试和监控 ===\n",
      "对话历史:\n",
      "\n",
      "--------------------------------------------------\n",
      "SYSTEM\n",
      "--------------------------------------------------\n",
      "你是一个友善的AI助手，请用简洁明了的方式回答问题。\n",
      "\n",
      "--------------------------------------------------\n",
      "USER\n",
      "--------------------------------------------------\n",
      "你好！请简单介绍一下自己。\n",
      "\n",
      "--------------------------------------------------\n",
      "ASSISTANT\n",
      "--------------------------------------------------\n",
      "你好！我是一个由人工智能驱动的助手，旨在帮助回答问题、提供信息和协助解决各种任务。我可以协助你处理多种主题，无论是学习、工作还是日常生活中的问题。请随时问我任何问题！\n",
      "\n",
      "--------------------------------------------------\n",
      "USER\n",
      "--------------------------------------------------\n",
      "能告诉我今天是星期几吗？\n",
      "\n",
      "--------------------------------------------------\n",
      "ASSISTANT\n",
      "--------------------------------------------------\n",
      "抱歉，我无法提供当前的日期或时间信息。您可以查看设备上的日历来找到今天是星期几。需要其他帮助吗？\n",
      "\n",
      "--------------------------------------------------\n",
      "USER\n",
      "--------------------------------------------------\n",
      "请用一句话解释什么是人工智能？\n",
      "\n",
      "--------------------------------------------------\n",
      "ASSISTANT\n",
      "--------------------------------------------------\n",
      "人工智能是一种能够模拟和执行人类智能任务的计算机系统或程序。\n",
      "\n",
      "最后一次响应详情:\n",
      "ID: chatcmpl-CQwX2XjKqua8DAEYVUBnv05GH5jEv\n",
      "模型: gpt-4o-2024-08-06\n",
      "创建时间: 1760537560\n",
      "完成原因: stop\n",
      "Token统计: {'prompt_tokens': 160, 'completion_tokens': 19, 'total_tokens': 179, 'completion_tokens_details': {'audio_tokens': 0, 'reasoning_tokens': 0}, 'prompt_tokens_details': {'audio_tokens': 0, 'cached_tokens': 0}}\n"
     ]
    }
   ],
   "source": [
    "# 调试信息\n",
    "print(\"=== 调试和监控 ===\")\n",
    "\n",
    "# 打印对话历史\n",
    "print(\"对话历史:\")\n",
    "chat.print_log()\n",
    "\n",
    "# 获取最后一次响应的详细信息\n",
    "if chat.last_response:\n",
    "    print(\"\\n最后一次响应详情:\")\n",
    "    print(f\"ID: {chat.last_response.id}\")\n",
    "    print(f\"模型: {chat.last_response.model}\")\n",
    "    print(f\"创建时间: {chat.last_response.created}\")\n",
    "    print(f\"完成原因: {chat.last_response.finish_reason}\")\n",
    "    print(f\"Token统计: {chat.last_response.usage}\")"
   ]
  },
  {
   "cell_type": "markdown",
   "metadata": {},
   "source": [
    "# 10. 异步对话示例"
   ]
  },
  {
   "cell_type": "code",
   "execution_count": 2,
   "metadata": {},
   "outputs": [
    {
     "name": "stdout",
     "output_type": "stream",
     "text": [
      "Python是一种高级编程语言，由Guido van Rossum于1980年代末创立，并于1991年首次发布。它以其简单易读的语法和广泛的应用范围而闻名，是目前最受欢迎的编程语言之一。以下是Python的一些关键特性和应用领域：\n",
      "\n",
      "### 关键特性：\n",
      "1. **简洁易读**：Python的语法设计追求代码的简洁和可读性，使得程序员能够更直观地表达逻辑，从而减少编程和维护的工作量。\n",
      "   \n",
      "2. **动态类型**：Python是动态类型语言，变量在第一次赋值时即被定义类型，无需显式声明类型。这提高了灵活性，但在大型项目中可能增加类型错误的风险。\n",
      "\n",
      "3. **丰富的标准库**：Python拥有非常丰富的标准库，涵盖了文字行操作、正则表达式、文件I/O、网络编程、互联网协议、单元测试等多个领域。\n",
      "\n",
      "4. **跨平台**：Python是跨平台的，即可以运行在Windows、macOS、Linux等各种操作系统上，只要安装了Python解释器。\n",
      "\n",
      "5. **多范式支持**：Python支持多种编程范式，包括面向对象编程、函数式编程以及过程式编程。\n",
      "\n",
      "6. **强大的社区**：Python拥有一个活跃的开发者社区，他们贡献了大量的第三方库和框架，如NumPy、Pandas、Django、Flask等。\n",
      "\n",
      "7. **自动垃圾回收**：Python内置的内存管理机制能够自动回收不再使用的内存，减少程序员手动管理内存的麻烦。\n",
      "\n",
      "### 应用领域：\n",
      "\n",
      "1. **Web开发**：Python在Web开发领域非常流行，框架如Django和Flask使开发和部署Web应用变得简单快捷。\n",
      "\n",
      "2. **数据科学与分析**：由于其强大的数据处理和分析库，如NumPy、Pandas、Matplotlib、Seaborn，Python已成为数据科学家的首选语言。\n",
      "\n",
      "3. **机器学习与人工智能**：Python是许多机器学习和人工智能项目中使用的主要语言，有相关的强大工具和库，如TensorFlow、Keras、PyTorch、Scikit-learn。\n",
      "\n",
      "4. **自动化脚本**：Python常被用于编写自动化脚本，以执行重复枯燥的任务，提高效率。\n",
      "\n",
      "5. **学术研究与教育**：Python的简单性使其成为教学编程和研究实验的理想选择，许多高校和在线课程都采用Python作为入门语言。\n",
      "\n",
      "6. **游戏开发**：尽管不是传统的游戏开发语言，但Python仍可通过Pygame等库进行简单的游戏开发。\n",
      "\n",
      "7. **嵌入式系统与物联网**：借助于MicroPython和CircuitPython，Python也在越来越多的嵌入式设备和物联网项目中得到应用。\n",
      "\n",
      "Python的易用性、广泛应用和活跃的社区支持使其不仅成为初学者入门编程的理想语言，也是专业开发者解决复杂问题的强大工具。\n",
      "\n",
      "流式响应完成!\n",
      "完整内容长度: 1193\n"
     ]
    }
   ],
   "source": [
    "import asyncio\n",
    "\n",
    "chat = Chat().user('请详细介绍一下Python编程语言')\n",
    "async def stream_example():\n",
    "    # 使用异步流式响应\n",
    "    accumulated_content = \"\"\n",
    "    \n",
    "    async for response in chat.get_response_stream_async():\n",
    "        # 获取增量内容\n",
    "        if response.delta_content:\n",
    "            accumulated_content += response.delta_content\n",
    "            print(response.delta_content, end='', flush=True)\n",
    "        \n",
    "        # 检查是否完成\n",
    "        if response.finish_reason == 'stop':\n",
    "            print(\"\\n\\n流式响应完成!\")\n",
    "            break\n",
    "    \n",
    "    print(f\"完整内容长度: {len(accumulated_content)}\")\n",
    "\n",
    "# 运行异步函数\n",
    "asyncio.run(stream_example())\n"
   ]
  }
 ],
 "metadata": {
  "kernelspec": {
   "display_name": "base",
   "language": "python",
   "name": "python3"
  },
  "language_info": {
   "codemirror_mode": {
    "name": "ipython",
    "version": 3
   },
   "file_extension": ".py",
   "mimetype": "text/x-python",
   "name": "python",
   "nbconvert_exporter": "python",
   "pygments_lexer": "ipython3",
   "version": "3.9.13"
  }
 },
 "nbformat": 4,
 "nbformat_minor": 4
}
