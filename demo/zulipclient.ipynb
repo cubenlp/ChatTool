{
 "cells": [
  {
   "cell_type": "code",
   "execution_count": null,
   "id": "39d86d57-a2ee-4fd7-b58d-5fdc36841079",
   "metadata": {},
   "outputs": [],
   "source": [
    "import nest_asyncio\n",
    "nest_asyncio.apply()"
   ]
  },
  {
   "cell_type": "code",
   "execution_count": null,
   "id": "27fc5084-42a0-4f61-98f0-022a8fbdf479",
   "metadata": {},
   "outputs": [],
   "source": [
    "import dotenv\n",
    "dotenv.load_dotenv()"
   ]
  },
  {
   "cell_type": "code",
   "execution_count": null,
   "id": "92eff621-aa5f-48cd-91f2-77379ef5ee06",
   "metadata": {},
   "outputs": [],
   "source": [
    "from chattool.tools import ZulipClient"
   ]
  },
  {
   "cell_type": "code",
   "execution_count": null,
   "id": "33dac614-1adb-4158-8b04-e1f700e0c8b7",
   "metadata": {},
   "outputs": [],
   "source": [
    "client = ZulipClient()"
   ]
  },
  {
   "cell_type": "markdown",
   "id": "bea41c5c-3966-4047-a073-2a17a41817de",
   "metadata": {},
   "source": [
    "### 获取频道"
   ]
  },
  {
   "cell_type": "code",
   "execution_count": null,
   "id": "d93a44dd-8b50-4d8d-80b6-46e26a15e5c1",
   "metadata": {},
   "outputs": [],
   "source": [
    "channels = client.get_channels()\n",
    "for channel in channels:\n",
    "    print(channel['name'], end='\\t')"
   ]
  },
  {
   "cell_type": "code",
   "execution_count": null,
   "id": "eb6e7242-9425-4d10-a6a7-c8f00375c8f8",
   "metadata": {},
   "outputs": [],
   "source": [
    "channel = channels[0]\n",
    "channel_id = channel['stream_id']\n",
    "print(channel, channel_id)"
   ]
  },
  {
   "cell_type": "markdown",
   "id": "6a5457d1-fea1-4595-91e4-352eadbefbe9",
   "metadata": {},
   "source": [
    "### 获取主题"
   ]
  },
  {
   "cell_type": "code",
   "execution_count": null,
   "id": "8a4e1688-3f8f-4152-8003-7895452e034a",
   "metadata": {},
   "outputs": [],
   "source": [
    "topics = client.get_topics(channel_id)\n",
    "topic = topics[0]\n",
    "topic_name = topic['name']\n",
    "print(topic, len(topics))"
   ]
  },
  {
   "cell_type": "markdown",
   "id": "83833d4c-d66d-4433-b5a7-87b360d5ef87",
   "metadata": {},
   "source": [
    "### 获取对话"
   ]
  },
  {
   "cell_type": "code",
   "execution_count": null,
   "id": "738c8181-b851-4705-a592-39b92e5c782e",
   "metadata": {},
   "outputs": [],
   "source": [
    "messages = client.get_topic_history(channel_id, topic_name, batch_size=5)\n",
    "len(messages)"
   ]
  },
  {
   "cell_type": "code",
   "execution_count": null,
   "id": "8c63c063-2230-436c-a80a-18625f7592b0",
   "metadata": {
    "scrolled": true
   },
   "outputs": [],
   "source": [
    "msgs = []\n",
    "msg_ids = set()\n",
    "for msg in messages:\n",
    "    print(msg['content'])\n",
    "    print('-'*100)"
   ]
  },
  {
   "cell_type": "markdown",
   "id": "ceef0893-ec66-4e7f-b540-1b7106bfe2b8",
   "metadata": {},
   "source": [
    "### 异步用法"
   ]
  },
  {
   "cell_type": "code",
   "execution_count": null,
   "id": "15d78d32-0259-45b9-ac4d-c9ab6a82729b",
   "metadata": {},
   "outputs": [],
   "source": [
    "import asyncio\n",
    "\n",
    "async def main():\n",
    "    async with ZulipClient() as client:\n",
    "        # 获取频道\n",
    "        channels = await client.get_channels_async()\n",
    "        \n",
    "        if channels:\n",
    "            stream_id = channels[0]['stream_id']\n",
    "            \n",
    "            # 获取话题\n",
    "            topics = await client.get_topics_async(stream_id)\n",
    "            print(f\"频道 {channels[0]['name']} 有 {len(topics)} 个话题\")\n",
    "            \n",
    "            if topics:\n",
    "                # 获取第一个话题的历史消息\n",
    "                topic_name = topics[0]['name']\n",
    "                messages = await client.get_topic_history_async(stream_id, topic_name)\n",
    "                \n",
    "                print(f\"话题 '{topic_name}' 有 {len(messages)} 条消息\")\n",
    "                \n",
    "                # 显示最新的几条消息\n",
    "                for msg in messages[-3:]:\n",
    "                    print(f\"[{msg['sender_full_name']}]: {msg['content'][:100]}...\")\n",
    "\n",
    "# 运行异步代码\n",
    "asyncio.run(main())"
   ]
  }
 ],
 "metadata": {
  "kernelspec": {
   "display_name": "Python 3 (ipykernel)",
   "language": "python",
   "name": "python3"
  },
  "language_info": {
   "codemirror_mode": {
    "name": "ipython",
    "version": 3
   },
   "file_extension": ".py",
   "mimetype": "text/x-python",
   "name": "python",
   "nbconvert_exporter": "python",
   "pygments_lexer": "ipython3",
   "version": "3.9.13"
  }
 },
 "nbformat": 4,
 "nbformat_minor": 5
}
